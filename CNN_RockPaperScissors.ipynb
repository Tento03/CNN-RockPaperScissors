{
  "cells": [
    {
      "cell_type": "code",
      "source": [
        "from google.colab import drive\n",
        "drive.mount('/content/drive')"
      ],
      "metadata": {
        "colab": {
          "base_uri": "https://localhost:8080/"
        },
        "id": "ldoi4ZvyYOYp",
        "outputId": "65945eed-3efc-44b8-b390-981c9cc83529"
      },
      "execution_count": 13,
      "outputs": [
        {
          "output_type": "stream",
          "name": "stdout",
          "text": [
            "Drive already mounted at /content/drive; to attempt to forcibly remount, call drive.mount(\"/content/drive\", force_remount=True).\n"
          ]
        }
      ]
    },
    {
      "cell_type": "code",
      "source": [
        "from tensorflow.keras.layers import Dense,Conv2D,MaxPooling2D,Flatten\n",
        "from tensorflow.keras.models import Sequential\n",
        "from tensorflow.keras.preprocessing.image import ImageDataGenerator\n",
        "from matplotlib import pyplot as plt"
      ],
      "metadata": {
        "id": "kr4Hn2KwYQn9"
      },
      "execution_count": 14,
      "outputs": []
    },
    {
      "cell_type": "code",
      "source": [
        "img_width,img_height=42,42"
      ],
      "metadata": {
        "id": "Yi84M2RSYgKo"
      },
      "execution_count": 15,
      "outputs": []
    },
    {
      "cell_type": "code",
      "source": [
        "training_generator=ImageDataGenerator(\n",
        "    rescale=1.255,\n",
        "    rotation_range=0.2,\n",
        "    width_shift_range=0.2,\n",
        "    height_shift_range=0.2,\n",
        "    fill_mode='nearest',\n",
        "    horizontal_flip=True\n",
        ")"
      ],
      "metadata": {
        "id": "5zfgVyvsY6nn"
      },
      "execution_count": 16,
      "outputs": []
    },
    {
      "cell_type": "code",
      "source": [
        "training_set=training_generator.flow_from_directory(\n",
        "    \"/content/drive/MyDrive/RockPaperScissor/rps/\",\n",
        "    color_mode='rgb',\n",
        "    target_size=(img_width,img_height),\n",
        "    batch_size=32,\n",
        "    class_mode='categorical'\n",
        ")"
      ],
      "metadata": {
        "colab": {
          "base_uri": "https://localhost:8080/"
        },
        "id": "42DDyYFQZOzZ",
        "outputId": "cce012c8-d915-406a-c396-5e9191c8244e"
      },
      "execution_count": 17,
      "outputs": [
        {
          "output_type": "stream",
          "name": "stdout",
          "text": [
            "Found 2540 images belonging to 3 classes.\n"
          ]
        }
      ]
    },
    {
      "cell_type": "code",
      "source": [
        "validation_generator=ImageDataGenerator(\n",
        "    rescale=1.255\n",
        ")"
      ],
      "metadata": {
        "id": "gWajeFQZZl-L"
      },
      "execution_count": 18,
      "outputs": []
    },
    {
      "cell_type": "code",
      "source": [
        "validation_set=validation_generator.flow_from_directory(\n",
        "    \"/content/drive/MyDrive/RockPaperScissor/rps-test-set/\",\n",
        "    color_mode='rgb',\n",
        "    target_size=(img_width,img_height),\n",
        "    batch_size=32,\n",
        "    class_mode='categorical'\n",
        ")"
      ],
      "metadata": {
        "colab": {
          "base_uri": "https://localhost:8080/"
        },
        "id": "Qb-sVr2baQXz",
        "outputId": "0a2762cf-b3e2-480a-fbaa-79b67f489e40"
      },
      "execution_count": 19,
      "outputs": [
        {
          "output_type": "stream",
          "name": "stdout",
          "text": [
            "Found 372 images belonging to 3 classes.\n"
          ]
        }
      ]
    },
    {
      "cell_type": "code",
      "source": [
        "model=Sequential()\n",
        "model.add(Conv2D(32,(3,3),activation='relu',input_shape=(42,42,3)))\n",
        "model.add(MaxPooling2D(3,3))\n",
        "model.add(Conv2D(64,(3,3),activation='relu',input_shape=(42,42,3)))\n",
        "model.add(MaxPooling2D(3,3))\n",
        "model.add(Flatten())\n",
        "model.add(Dense(128))\n",
        "model.add(Dense(3,activation='softmax'))"
      ],
      "metadata": {
        "colab": {
          "base_uri": "https://localhost:8080/"
        },
        "id": "ETVLEvOtaefC",
        "outputId": "16d3b096-99b3-4b16-959d-196c8c772053"
      },
      "execution_count": 20,
      "outputs": [
        {
          "output_type": "stream",
          "name": "stderr",
          "text": [
            "/usr/local/lib/python3.10/dist-packages/keras/src/layers/convolutional/base_conv.py:107: UserWarning: Do not pass an `input_shape`/`input_dim` argument to a layer. When using Sequential models, prefer using an `Input(shape)` object as the first layer in the model instead.\n",
            "  super().__init__(activity_regularizer=activity_regularizer, **kwargs)\n"
          ]
        }
      ]
    },
    {
      "cell_type": "code",
      "source": [
        "model.compile(optimizer='adam',metrics=['accuracy'],loss='categorical_crossentropy')"
      ],
      "metadata": {
        "id": "jfPyFtRDarVH"
      },
      "execution_count": 21,
      "outputs": []
    },
    {
      "cell_type": "code",
      "source": [
        "history=model.fit(training_set,validation_data=(validation_set),epochs=20)"
      ],
      "metadata": {
        "colab": {
          "base_uri": "https://localhost:8080/"
        },
        "id": "pVJYgbFXbIb-",
        "outputId": "bfdc4c8a-518e-4a27-e8b9-ed4f72730f79"
      },
      "execution_count": 22,
      "outputs": [
        {
          "output_type": "stream",
          "name": "stdout",
          "text": [
            "Epoch 1/20\n",
            "\u001b[1m80/80\u001b[0m \u001b[32m━━━━━━━━━━━━━━━━━━━━\u001b[0m\u001b[37m\u001b[0m \u001b[1m208s\u001b[0m 3s/step - accuracy: 0.3724 - loss: 38.6028 - val_accuracy: 0.5081 - val_loss: 0.9552\n",
            "Epoch 2/20\n",
            "\u001b[1m80/80\u001b[0m \u001b[32m━━━━━━━━━━━━━━━━━━━━\u001b[0m\u001b[37m\u001b[0m \u001b[1m18s\u001b[0m 208ms/step - accuracy: 0.4645 - loss: 1.0673 - val_accuracy: 0.6505 - val_loss: 0.7919\n",
            "Epoch 3/20\n",
            "\u001b[1m80/80\u001b[0m \u001b[32m━━━━━━━━━━━━━━━━━━━━\u001b[0m\u001b[37m\u001b[0m \u001b[1m21s\u001b[0m 215ms/step - accuracy: 0.5873 - loss: 0.8711 - val_accuracy: 0.5699 - val_loss: 0.8662\n",
            "Epoch 4/20\n",
            "\u001b[1m80/80\u001b[0m \u001b[32m━━━━━━━━━━━━━━━━━━━━\u001b[0m\u001b[37m\u001b[0m \u001b[1m20s\u001b[0m 208ms/step - accuracy: 0.5874 - loss: 0.8547 - val_accuracy: 0.8468 - val_loss: 0.5319\n",
            "Epoch 5/20\n",
            "\u001b[1m80/80\u001b[0m \u001b[32m━━━━━━━━━━━━━━━━━━━━\u001b[0m\u001b[37m\u001b[0m \u001b[1m18s\u001b[0m 214ms/step - accuracy: 0.6817 - loss: 0.7465 - val_accuracy: 0.9113 - val_loss: 0.4219\n",
            "Epoch 6/20\n",
            "\u001b[1m80/80\u001b[0m \u001b[32m━━━━━━━━━━━━━━━━━━━━\u001b[0m\u001b[37m\u001b[0m \u001b[1m20s\u001b[0m 208ms/step - accuracy: 0.7152 - loss: 0.6414 - val_accuracy: 0.8656 - val_loss: 0.3355\n",
            "Epoch 7/20\n",
            "\u001b[1m80/80\u001b[0m \u001b[32m━━━━━━━━━━━━━━━━━━━━\u001b[0m\u001b[37m\u001b[0m \u001b[1m19s\u001b[0m 217ms/step - accuracy: 0.7302 - loss: 0.6185 - val_accuracy: 0.9651 - val_loss: 0.2524\n",
            "Epoch 8/20\n",
            "\u001b[1m80/80\u001b[0m \u001b[32m━━━━━━━━━━━━━━━━━━━━\u001b[0m\u001b[37m\u001b[0m \u001b[1m19s\u001b[0m 219ms/step - accuracy: 0.7627 - loss: 0.5487 - val_accuracy: 0.9516 - val_loss: 0.2505\n",
            "Epoch 9/20\n",
            "\u001b[1m80/80\u001b[0m \u001b[32m━━━━━━━━━━━━━━━━━━━━\u001b[0m\u001b[37m\u001b[0m \u001b[1m18s\u001b[0m 214ms/step - accuracy: 0.7547 - loss: 0.5996 - val_accuracy: 0.9113 - val_loss: 0.3086\n",
            "Epoch 10/20\n",
            "\u001b[1m80/80\u001b[0m \u001b[32m━━━━━━━━━━━━━━━━━━━━\u001b[0m\u001b[37m\u001b[0m \u001b[1m20s\u001b[0m 228ms/step - accuracy: 0.7808 - loss: 0.5065 - val_accuracy: 0.9220 - val_loss: 0.2944\n",
            "Epoch 11/20\n",
            "\u001b[1m80/80\u001b[0m \u001b[32m━━━━━━━━━━━━━━━━━━━━\u001b[0m\u001b[37m\u001b[0m \u001b[1m19s\u001b[0m 217ms/step - accuracy: 0.7730 - loss: 0.5038 - val_accuracy: 0.6532 - val_loss: 0.8173\n",
            "Epoch 12/20\n",
            "\u001b[1m80/80\u001b[0m \u001b[32m━━━━━━━━━━━━━━━━━━━━\u001b[0m\u001b[37m\u001b[0m \u001b[1m18s\u001b[0m 210ms/step - accuracy: 0.6459 - loss: 0.7138 - val_accuracy: 0.8118 - val_loss: 0.3895\n",
            "Epoch 13/20\n",
            "\u001b[1m80/80\u001b[0m \u001b[32m━━━━━━━━━━━━━━━━━━━━\u001b[0m\u001b[37m\u001b[0m \u001b[1m18s\u001b[0m 210ms/step - accuracy: 0.7727 - loss: 0.5348 - val_accuracy: 0.9624 - val_loss: 0.1953\n",
            "Epoch 14/20\n",
            "\u001b[1m80/80\u001b[0m \u001b[32m━━━━━━━━━━━━━━━━━━━━\u001b[0m\u001b[37m\u001b[0m \u001b[1m21s\u001b[0m 207ms/step - accuracy: 0.7898 - loss: 0.5366 - val_accuracy: 0.6882 - val_loss: 0.5756\n",
            "Epoch 15/20\n",
            "\u001b[1m80/80\u001b[0m \u001b[32m━━━━━━━━━━━━━━━━━━━━\u001b[0m\u001b[37m\u001b[0m \u001b[1m18s\u001b[0m 208ms/step - accuracy: 0.7717 - loss: 0.4899 - val_accuracy: 0.8898 - val_loss: 0.3430\n",
            "Epoch 16/20\n",
            "\u001b[1m80/80\u001b[0m \u001b[32m━━━━━━━━━━━━━━━━━━━━\u001b[0m\u001b[37m\u001b[0m \u001b[1m21s\u001b[0m 216ms/step - accuracy: 0.8050 - loss: 0.4737 - val_accuracy: 0.7634 - val_loss: 0.4082\n",
            "Epoch 17/20\n",
            "\u001b[1m80/80\u001b[0m \u001b[32m━━━━━━━━━━━━━━━━━━━━\u001b[0m\u001b[37m\u001b[0m \u001b[1m19s\u001b[0m 208ms/step - accuracy: 0.8014 - loss: 0.4840 - val_accuracy: 0.9005 - val_loss: 0.2386\n",
            "Epoch 18/20\n",
            "\u001b[1m80/80\u001b[0m \u001b[32m━━━━━━━━━━━━━━━━━━━━\u001b[0m\u001b[37m\u001b[0m \u001b[1m18s\u001b[0m 211ms/step - accuracy: 0.8250 - loss: 0.4126 - val_accuracy: 0.7903 - val_loss: 0.3331\n",
            "Epoch 19/20\n",
            "\u001b[1m80/80\u001b[0m \u001b[32m━━━━━━━━━━━━━━━━━━━━\u001b[0m\u001b[37m\u001b[0m \u001b[1m18s\u001b[0m 210ms/step - accuracy: 0.8158 - loss: 0.4433 - val_accuracy: 0.9489 - val_loss: 0.1533\n",
            "Epoch 20/20\n",
            "\u001b[1m80/80\u001b[0m \u001b[32m━━━━━━━━━━━━━━━━━━━━\u001b[0m\u001b[37m\u001b[0m \u001b[1m18s\u001b[0m 211ms/step - accuracy: 0.8277 - loss: 0.4110 - val_accuracy: 0.9785 - val_loss: 0.1058\n"
          ]
        }
      ]
    },
    {
      "cell_type": "code",
      "source": [
        "plt.figure(figsize=(10,4))\n",
        "plt.plot(history.history['loss'],label='loss')\n",
        "plt.plot(history.history['val_loss'],label='val_loss')\n",
        "plt.xlabel('Loss')\n",
        "plt.ylabel('Epochs')\n",
        "plt.legend()\n",
        "plt.grid()\n",
        "plt.show()"
      ],
      "metadata": {
        "colab": {
          "base_uri": "https://localhost:8080/",
          "height": 388
        },
        "id": "Qu4xM_CAbPvy",
        "outputId": "885cb2e3-b9fd-4413-f18a-4ef613cefda0"
      },
      "execution_count": 23,
      "outputs": [
        {
          "output_type": "display_data",
          "data": {
            "text/plain": [
              "<Figure size 1000x400 with 1 Axes>"
            ],
            "image/png": "[encoded data removed]"
          },
          "metadata": {}
        }
      ]
    },
    {
      "cell_type": "code",
      "source": [
        "model.save('cnn.h5')"
      ],
      "metadata": {
        "colab": {
          "base_uri": "https://localhost:8080/"
        },
        "id": "cHUDzg45cz3v",
        "outputId": "15d39983-d06f-4496-cbe8-f921b44fae0c"
      },
      "execution_count": 24,
      "outputs": [
        {
          "output_type": "stream",
          "name": "stderr",
          "text": [
            "WARNING:absl:You are saving your model as an HDF5 file via `model.save()` or `keras.saving.save_model(model)`. This file format is considered legacy. We recommend using instead the native Keras format, e.g. `model.save('my_model.keras')` or `keras.saving.save_model(model, 'my_model.keras')`. \n"
          ]
        }
      ]
    },
    {
      "cell_type": "code",
      "source": [],
      "metadata": {
        "id": "3YGcGC_6hysw"
      },
      "execution_count": null,
      "outputs": []
    }
  ],
  "metadata": {
    "colab": {
      "provenance": [],
      "gpuType": "T4"
    },
    "kernelspec": {
      "display_name": "Python 3",
      "name": "python3"
    },
    "language_info": {
      "name": "python"
    },
    "accelerator": "GPU"
  },
  "nbformat": 4,
  "nbformat_minor": 0
}